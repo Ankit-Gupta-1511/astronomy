{
 "cells": [
  {
   "cell_type": "markdown",
   "metadata": {},
   "source": [
    "### Reverse engineering JPL Horizons visual magnitude calculations\n",
    "\n",
    "I want to calculate visual magnitudes that closely match the models used by the JPL Horizons online tool. Here is code for loading the files."
   ]
  },
  {
   "cell_type": "code",
   "execution_count": 15,
   "metadata": {},
   "outputs": [],
   "source": [
    "import re\n",
    "import datetime\n",
    "\n",
    "class Item:\n",
    "    def __init__(self, mag, helio_dist, geo_dist, phase_angle):\n",
    "        self.mag = mag\n",
    "        self.helio_dist = helio_dist\n",
    "        self.geo_dist = geo_dist\n",
    "        self.phase_angle = phase_angle\n",
    "        \n",
    "    def __str__(self):\n",
    "        return '(m={:0.3f}, h={:0.6f}, g={:0.6f}, a={:0.3f})'.format(self.mag, self.helio_dist, self.geo_dist, self.phase_angle)\n",
    "\n",
    "def LoadMagnitudeData(filename):\n",
    "    data = []\n",
    "    with open(filename, 'rt') as infile:\n",
    "        for line in infile:\n",
    "            m = re.match(r'^\\s(\\d{4})-(Jan|Feb|Mar|Apr|May|Jun|Jul|Aug|Sep|Oct|Nov|Dec)-(\\d{2})\\s(\\d{2}):(\\d{2})\\s+(-?\\d+\\.\\d+)\\s+(-?\\d+\\.\\d+)\\s+(-?\\d+\\.\\d+)\\s+(-?\\d+\\.\\d+)\\s+(-?\\d+\\.\\d+)\\s+(-?\\d+\\.\\d+)\\s+(-?\\d+\\.\\d+)\\s*$', line)\n",
    "            if m:\n",
    "                # We are only going to capture magnitude, phase, geo_dist, and helio_dist\n",
    "                mag = float(m.group(6))\n",
    "                helio_dist = float(m.group(8))\n",
    "                geo_dist = float(m.group(10))\n",
    "                phase_angle = float(m.group(12))\n",
    "                data.append(Item(mag, helio_dist, geo_dist, phase_angle))\n",
    "    return data"
   ]
  },
  {
   "cell_type": "code",
   "execution_count": 16,
   "metadata": {},
   "outputs": [],
   "source": [
    "Data = {}\n",
    "for body in ['Sun', 'Moon', 'Mercury', 'Venus', 'Mars', 'Jupiter', 'Saturn', 'Neptune', 'Pluto']:\n",
    "    Data[body] = LoadMagnitudeData(body + '.txt')"
   ]
  },
  {
   "cell_type": "code",
   "execution_count": 17,
   "metadata": {},
   "outputs": [
    {
     "data": {
      "text/plain": [
       "'<m=-3.960, h=0.727243, g=1.708095, a=3.568>'"
      ]
     },
     "execution_count": 17,
     "metadata": {},
     "output_type": "execute_result"
    }
   ],
   "source": [
    "str(Data['Venus'][0])"
   ]
  },
  {
   "cell_type": "code",
   "execution_count": null,
   "metadata": {},
   "outputs": [],
   "source": []
  }
 ],
 "metadata": {
  "kernelspec": {
   "display_name": "Python 3",
   "language": "python",
   "name": "python3"
  },
  "language_info": {
   "codemirror_mode": {
    "name": "ipython",
    "version": 3
   },
   "file_extension": ".py",
   "mimetype": "text/x-python",
   "name": "python",
   "nbconvert_exporter": "python",
   "pygments_lexer": "ipython3",
   "version": "3.5.3"
  }
 },
 "nbformat": 4,
 "nbformat_minor": 2
}
