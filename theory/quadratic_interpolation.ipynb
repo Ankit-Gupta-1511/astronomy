{
 "cells": [
  {
   "cell_type": "markdown",
   "metadata": {},
   "source": [
    "### Quadratic Interpolation\n",
    "\n",
    "Given a smooth, well-behaved function $f(t)$ that is known to have no more than one root within the range $t_a \\le t \\le t_b$, we want to find an iterative procedure to quickly narrow in on a value $t_0$ in that range such that $f(t_0) \\approx 0$. The function $f$ may be expensive to compute, so we would like to evaluate it as few times as possible. We will use quadratic interpolation, where we approximate $f$ as a parabola.\n",
    "\n",
    "First find the midpoint time $t_m$ between $t_a$ and $t_b$:\n",
    "\n",
    "\\begin{align}\n",
    "\\\\\n",
    "t_m = \\frac {t_b + t_a} {2}\n",
    "\\end{align}\n",
    "\n",
    "Define a parameter $x$ that has the linear range $-1 \\le x \\le +1$ over the search interval:\n",
    "\n",
    "\\begin{align}\n",
    "\\\\\n",
    "x = \\frac {t - t_m} {t_b - t_m}\n",
    "\\end{align}\n",
    "\n",
    "A generic parabolic function over this range is\n",
    "\n",
    "\\begin{align}\n",
    "\\\\\n",
    "p(x) = Q x^2 + R x + S\n",
    "\\end{align}\n",
    "\n",
    "Evaluate $f$ at the left, middle, and right points. These correspond to $x=-1$, $x=0$, and $x=+1$.\n",
    "\n",
    "\\begin{align}\n",
    "\\\\\n",
    "f_a &= f(t_a) \\\\\n",
    "f_m &= f(t_m) \\\\\n",
    "f_b &= f(t_b)\n",
    "\\end{align}\n",
    "\n",
    "Now we can relate these 3 values to a unique parabola that passes exactly through the points $(t_a, f_a)$, $(t_m, f_m)$, and $(t_b, f_b)$ as\n",
    "\n",
    "\\begin{align}\n",
    "\\\\\n",
    "p(-1) &= f_a = Q - R + S \\\\\n",
    "p(0)  &= f_m = S\\\\\n",
    "p(+1) &= f_b = Q + R + S \n",
    "\\end{align}\n",
    "\n",
    "Solving this system of equations in terms of the known values $f_a$, $f_m$, and $f_b$, we obtain\n",
    "\n",
    "\\begin{align}\n",
    "\\\\\n",
    "Q &= \\frac{f_b + f_a}{2} - f_m \\\\\n",
    "R &= \\frac{f_b - f_a}{2} \\\\\n",
    "S &= f_m\n",
    "\\end{align}\n",
    "\n",
    "Let's test these formulas:"
   ]
  },
  {
   "cell_type": "code",
   "execution_count": 39,
   "metadata": {},
   "outputs": [
    {
     "name": "stdout",
     "output_type": "stream",
     "text": [
      "Q=-0.003821, R=-0.164314, S=0.064842\n",
      "p(-1)=0.225336, f(ta)=0.225336\n",
      "p( 0)=0.064842, f(tm)=0.064842\n",
      "p(+1)=-0.103293, f(tb)=-0.103293\n"
     ]
    }
   ],
   "source": [
    "import math\n",
    "\n",
    "class Parabola:\n",
    "    def __init__(self, f, ta, tb):\n",
    "        tm = (tb + ta)/2\n",
    "        fa = f(ta)\n",
    "        fb = f(tb)\n",
    "        fm = f(tm)\n",
    "        self.Q = (fb + fa)/2 - fm\n",
    "        self.R = (fb - fa)/2\n",
    "        self.S = fm\n",
    "        \n",
    "    def Eval(self, x):\n",
    "        return self.Q*x*x + self.R*x + self.S\n",
    "    \n",
    "    def Slope(self, x):\n",
    "        return 2*self.Q*x + self.R\n",
    "\n",
    "def Func(t):\n",
    "    return math.cos(t) - t\n",
    "\n",
    "ta = 0.6\n",
    "tb = 0.8\n",
    "tm = (ta + tb)/2\n",
    "p = Parabola(Func, ta, tb)\n",
    "print('Q={:0.6f}, R={:0.6f}, S={:0.6f}'.format(p.Q, p.R, p.S))\n",
    "print('p(-1)={:0.6f}, f(ta)={:0.6f}'.format(p.Eval(-1), Func(ta)))\n",
    "print('p( 0)={:0.6f}, f(tm)={:0.6f}'.format(p.Eval( 0), Func(tm)))\n",
    "print('p(+1)={:0.6f}, f(tb)={:0.6f}'.format(p.Eval(+1), Func(tb)))\n"
   ]
  },
  {
   "cell_type": "markdown",
   "metadata": {},
   "source": [
    "Now that we have a parabola that passes through the 3 points, let's solve for the value of $x$ such that $p(x)=0$. The quadratic formula gives us two values of $x$:\n",
    "\n",
    "\\begin{align}\n",
    "\\\\\n",
    "x = \\frac {-R \\pm \\sqrt{R^2 - 4QS}} {2Q}\n",
    "\\end{align}\n",
    "\n",
    "For our purposes, the solution must have a real value and must lie in the range $-1 \\le x \\le +1$. We expect exactly one such solution. If there are zero or two such values of $x$, our search will return a null value."
   ]
  },
  {
   "cell_type": "code",
   "execution_count": 40,
   "metadata": {},
   "outputs": [],
   "source": [
    "def Solve(p):\n",
    "    if p.Q == 0:\n",
    "        # This is not a parabola but a straight line\n",
    "        # p(x) = Rx + S = 0\n",
    "        # Therefore x = -S/R\n",
    "        if p.R == 0:\n",
    "            return None\n",
    "        x = -p.S / p.R\n",
    "        if -1 <= x <= +1:\n",
    "            return x\n",
    "        return None\n",
    "    \n",
    "    # Let u = the quantity inside the square root.\n",
    "    u = p.R*p.R - 4*p.Q*p.S\n",
    "    if u <= 0:\n",
    "        # If u<0, then both solutions are complex-valued.\n",
    "        # If u=0, the parabola is tangent to the axis, not crossing it.\n",
    "        return None\n",
    "    \n",
    "    ru = math.sqrt(u)\n",
    "    x1 = (-p.R + ru) / (2 * p.Q)\n",
    "    x2 = (-p.R - ru) / (2 * p.Q)\n",
    "    \n",
    "    if -1 <= x1 <= +1:\n",
    "        if -1 <= x2 <= +1:\n",
    "            return None\n",
    "        return x1\n",
    "    \n",
    "    if -1 <= x2 <= +1:\n",
    "        return x2\n",
    "    \n",
    "    return None"
   ]
  },
  {
   "cell_type": "code",
   "execution_count": 41,
   "metadata": {},
   "outputs": [
    {
     "name": "stdout",
     "output_type": "stream",
     "text": [
      "0.39106619198014525\n"
     ]
    }
   ],
   "source": [
    "x = Solve(p)\n",
    "print(x)"
   ]
  },
  {
   "cell_type": "markdown",
   "metadata": {},
   "source": [
    "Convert the value $x$ back into a time value $t$."
   ]
  },
  {
   "cell_type": "code",
   "execution_count": 42,
   "metadata": {},
   "outputs": [
    {
     "name": "stdout",
     "output_type": "stream",
     "text": [
      "0.7391066191980145\n"
     ]
    }
   ],
   "source": [
    "t = tm + x*(tb-tm)\n",
    "print(t)"
   ]
  },
  {
   "cell_type": "markdown",
   "metadata": {},
   "source": [
    "See how close this is to the correct solution."
   ]
  },
  {
   "cell_type": "code",
   "execution_count": 43,
   "metadata": {},
   "outputs": [
    {
     "name": "stdout",
     "output_type": "stream",
     "text": [
      "-3.595936996025895e-05\n"
     ]
    }
   ],
   "source": [
    "f = Func(t)\n",
    "print(f)"
   ]
  },
  {
   "cell_type": "markdown",
   "metadata": {},
   "source": [
    "We want to iterate and do another parabolic interpolation, but the problem is we don't know where to choose a new time range $\\bar{t}_a \\le t \\le \\bar{t}_b$. We want this new range to be as small as possible while definitely bracketing the place where $f(t)$ crosses the $t$-axis. If we knew where that was, we would have already solved the problem and wouldn't need to do this!\n",
    "\n",
    "We are actually more interested in finding $t_0$ within a sufficiently small window $\\Delta t$ that definitely brackets the root, than we are in finding a very small value $\\left|{f(t)}\\right|$.\n",
    "\n",
    "We can keep track of the bounding values of $t$ that most closely bracket where the root must be, and iterate with quadratic interpolation around each successive approximation of $t_0$. The trick might be to just create another parabola through the $t$ value we just found by picking a new value of $t_a$ and $t_b$ around it, without worrying about whether the parabola crosses the $t$-axis between the new $t_a$ and $t_b$, so long as it stays inside the original range."
   ]
  },
  {
   "cell_type": "code",
   "execution_count": null,
   "metadata": {},
   "outputs": [],
   "source": []
  }
 ],
 "metadata": {
  "kernelspec": {
   "display_name": "Python 3",
   "language": "python",
   "name": "python3"
  },
  "language_info": {
   "codemirror_mode": {
    "name": "ipython",
    "version": 3
   },
   "file_extension": ".py",
   "mimetype": "text/x-python",
   "name": "python",
   "nbconvert_exporter": "python",
   "pygments_lexer": "ipython3",
   "version": "3.5.3"
  }
 },
 "nbformat": 4,
 "nbformat_minor": 2
}
